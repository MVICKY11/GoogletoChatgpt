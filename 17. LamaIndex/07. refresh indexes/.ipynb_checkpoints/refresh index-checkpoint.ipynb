{
 "cells": [
  {
   "cell_type": "code",
   "execution_count": 2,
   "id": "8fa8c54d-0c54-4a47-a69a-b4d72081dc17",
   "metadata": {},
   "outputs": [
    {
     "name": "stdout",
     "output_type": "stream",
     "text": [
      "<bound method Document.get_doc_id of Document(id_='test/file1/file1.txt', embedding=None, metadata={'file_path': 'test/file1/file1.txt', 'file_name': 'file1.txt', 'file_type': 'text/plain', 'file_size': 95, 'creation_date': '2024-07-07', 'last_modified_date': '2023-10-31', 'last_accessed_date': '2024-07-07'}, excluded_embed_metadata_keys=['file_name', 'file_type', 'file_size', 'creation_date', 'last_modified_date', 'last_accessed_date'], excluded_llm_metadata_keys=['file_name', 'file_type', 'file_size', 'creation_date', 'last_modified_date', 'last_accessed_date'], relationships={}, hash='2a3587a224a85588136da8da325e6b0064232214afd1717712593fea2a6c6b23', text='This is file 1.This is a test file.\\nThe name of the character is Brian working in a book shop.', start_char_idx=None, end_char_idx=None, text_template='{metadata_str}\\n\\n{content}', metadata_template='{key}: {value}', metadata_seperator='\\n')>\n",
      "<bound method Document.get_doc_id of Document(id_='test/file2/file2.txt', embedding=None, metadata={'file_path': 'test/file2/file2.txt', 'file_name': 'file2.txt', 'file_type': 'text/plain', 'file_size': 36, 'creation_date': '2024-07-07', 'last_modified_date': '2023-06-16', 'last_accessed_date': '2024-07-07'}, excluded_embed_metadata_keys=['file_name', 'file_type', 'file_size', 'creation_date', 'last_modified_date', 'last_accessed_date'], excluded_llm_metadata_keys=['file_name', 'file_type', 'file_size', 'creation_date', 'last_modified_date', 'last_accessed_date'], relationships={}, hash='7040621f98cb3f90d216d2d8a70f3f1c4f610482e9bc5b71901d715e1564a848', text='This is file 2. This is a test file.', start_char_idx=None, end_char_idx=None, text_template='{metadata_str}\\n\\n{content}', metadata_template='{key}: {value}', metadata_seperator='\\n')>\n",
      "<bound method Document.get_doc_id of Document(id_='test/file3/file3.txt', embedding=None, metadata={'file_path': 'test/file3/file3.txt', 'file_name': 'file3.txt', 'file_type': 'text/plain', 'file_size': 15, 'creation_date': '2024-07-07', 'last_modified_date': '2023-06-06', 'last_accessed_date': '2024-07-07'}, excluded_embed_metadata_keys=['file_name', 'file_type', 'file_size', 'creation_date', 'last_modified_date', 'last_accessed_date'], excluded_llm_metadata_keys=['file_name', 'file_type', 'file_size', 'creation_date', 'last_modified_date', 'last_accessed_date'], relationships={}, hash='84702895430b960ef378b80eb90f6c3104f2ca7e629ad573e3c61aa7ec65143d', text='This is file 3.', start_char_idx=None, end_char_idx=None, text_template='{metadata_str}\\n\\n{content}', metadata_template='{key}: {value}', metadata_seperator='\\n')>\n",
      "<bound method Document.get_doc_id of Document(id_='test/file4/file4.txt', embedding=None, metadata={'file_path': 'test/file4/file4.txt', 'file_name': 'file4.txt', 'file_type': 'text/plain', 'file_size': 15, 'creation_date': '2024-07-07', 'last_modified_date': '2023-06-06', 'last_accessed_date': '2024-07-07'}, excluded_embed_metadata_keys=['file_name', 'file_type', 'file_size', 'creation_date', 'last_modified_date', 'last_accessed_date'], excluded_llm_metadata_keys=['file_name', 'file_type', 'file_size', 'creation_date', 'last_modified_date', 'last_accessed_date'], relationships={}, hash='62316b971367de9fe1fd36d0b3a43195019eb3687a64738be690fdd0a1af57a5', text='This is file 4.', start_char_idx=None, end_char_idx=None, text_template='{metadata_str}\\n\\n{content}', metadata_template='{key}: {value}', metadata_seperator='\\n')>\n",
      "<bound method Document.get_doc_id of Document(id_='test/file6/file6.txt', embedding=None, metadata={'file_path': 'test/file6/file6.txt', 'file_name': 'file6.txt', 'file_type': 'text/plain', 'file_size': 21, 'creation_date': '2024-07-07', 'last_modified_date': '2023-10-31', 'last_accessed_date': '2024-07-07'}, excluded_embed_metadata_keys=['file_name', 'file_type', 'file_size', 'creation_date', 'last_modified_date', 'last_accessed_date'], excluded_llm_metadata_keys=['file_name', 'file_type', 'file_size', 'creation_date', 'last_modified_date', 'last_accessed_date'], relationships={}, hash='e392a9531b556432c4bd7bdf254e63865237f02479dfbd23475b596e38464c3c', text='This is test file 6. ', start_char_idx=None, end_char_idx=None, text_template='{metadata_str}\\n\\n{content}', metadata_template='{key}: {value}', metadata_seperator='\\n')>\n",
      "<bound method Document.get_doc_id of Document(id_='test/files5/file5.txt', embedding=None, metadata={'file_path': 'test/files5/file5.txt', 'file_name': 'file5.txt', 'file_type': 'text/plain', 'file_size': 20, 'creation_date': '2024-07-07', 'last_modified_date': '2023-10-31', 'last_accessed_date': '2024-07-07'}, excluded_embed_metadata_keys=['file_name', 'file_type', 'file_size', 'creation_date', 'last_modified_date', 'last_accessed_date'], excluded_llm_metadata_keys=['file_name', 'file_type', 'file_size', 'creation_date', 'last_modified_date', 'last_accessed_date'], relationships={}, hash='cf084dd644b51f37bd39d59ef1f1cf8472ff152b3be0247e39a2d966419dd350', text='This is test file 5.', start_char_idx=None, end_char_idx=None, text_template='{metadata_str}\\n\\n{content}', metadata_template='{key}: {value}', metadata_seperator='\\n')>\n"
     ]
    }
   ],
   "source": [
    "from llama_index import VectorStoreIndex, SimpleDirectoryReader, ServiceContext, Document\n",
    "from llama_index.llms import OpenAI\n",
    "from llama_index import StorageContext, load_index_from_storage\n",
    "import os\n",
    "from dotenv import load_dotenv, find_dotenv\n",
    "load_dotenv(find_dotenv(), override=True)\n",
    "\n",
    "index = None\n",
    "documents = None\n",
    "\n",
    "def construct_index():\n",
    "    global index \n",
    "\n",
    "    try:\n",
    "        # load index if already persists \n",
    "        storage_context = StorageContext.from_defaults(persist_dir=\"./storage\")\n",
    "        index = load_index_from_storage(storage_context)\n",
    "\n",
    "    except:\n",
    "        # otherwise, load documents and create index\n",
    "        llm= OpenAI(temperature=0, model=\"gpt-3.5-turbo\")\n",
    "        service_context = ServiceContext.from_defaults(llm=llm)\n",
    "        documents = SimpleDirectoryReader(\"test\", recursive= True, filename_as_id=True).load_data()\n",
    "        # print doc_id\n",
    "        for doc in documents:\n",
    "            print(doc.get_doc_id)\n",
    "        index = VectorStoreIndex.from_documents(documents, service_context=service_context)\n",
    "        index.storage_context.persist()\n",
    "\n",
    "def on_modified():\n",
    "    storage_context = StorageContext.from_defaults(persist_dir=\"./storage\")\n",
    "    index = load_index_from_storage(storage_context)\n",
    "\n",
    "    documents = SimpleDirectoryReader(\"test\", recursive= True, filename_as_id=True).load_data()\n",
    "\n",
    "    refreshed_docs = index.refresh_ref_docs(\n",
    "            documents,\n",
    "            update_kwargs={}\n",
    "        )\n",
    "\n",
    "    index.storage_context.persist()\n",
    "    print(refreshed_docs)\n",
    "\n",
    "\n",
    "# query the index\n",
    "def query_index():\n",
    "    storage_context = StorageContext.from_defaults(persist_dir=\"./storage\")\n",
    "    index = load_index_from_storage(storage_context)\n",
    "    response = index.as_query_engine().query(\"What's the name of the character?\")\n",
    "    print(response)\n",
    "\n",
    "\n",
    "construct_index()"
   ]
  },
  {
   "cell_type": "code",
   "execution_count": 3,
   "id": "7cd2e8a6-822b-4068-a727-fff3d90ec8cc",
   "metadata": {},
   "outputs": [
    {
     "name": "stdout",
     "output_type": "stream",
     "text": [
      "[False, False, False, False, False, False]\n",
      "Brian\n"
     ]
    }
   ],
   "source": [
    "on_modified()\n",
    "query_index()"
   ]
  },
  {
   "cell_type": "code",
   "execution_count": null,
   "id": "98495ef3-e28d-4a4c-9862-87cf3bc88d65",
   "metadata": {},
   "outputs": [],
   "source": []
  }
 ],
 "metadata": {
  "kernelspec": {
   "display_name": "Python 3 (ipykernel)",
   "language": "python",
   "name": "python3"
  },
  "language_info": {
   "codemirror_mode": {
    "name": "ipython",
    "version": 3
   },
   "file_extension": ".py",
   "mimetype": "text/x-python",
   "name": "python",
   "nbconvert_exporter": "python",
   "pygments_lexer": "ipython3",
   "version": "3.11.8"
  }
 },
 "nbformat": 4,
 "nbformat_minor": 5
}

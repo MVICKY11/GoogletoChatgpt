{
 "cells": [
  {
   "cell_type": "code",
   "execution_count": 2,
   "id": "658dd7be-63d4-458d-9b47-b4b1f38de029",
   "metadata": {},
   "outputs": [
    {
     "name": "stdout",
     "output_type": "stream",
     "text": [
      "[Document(id_='doc_id_0', embedding=None, metadata={}, excluded_embed_metadata_keys=[], excluded_llm_metadata_keys=[], relationships={}, hash='ca01e438e454fa16b54e268469d7b75b30c8f2db4bd57792daa6da0ea1f8604e', text='text_chunk_1', start_char_idx=None, end_char_idx=None, text_template='{metadata_str}\\n\\n{content}', metadata_template='{key}: {value}', metadata_seperator='\\n'), Document(id_='doc_id_1', embedding=None, metadata={}, excluded_embed_metadata_keys=[], excluded_llm_metadata_keys=[], relationships={}, hash='56f0533e4fa18e9e53839181e780d19ddb0c0fe89770eba433df0e7479405dd5', text='text_chunk_2', start_char_idx=None, end_char_idx=None, text_template='{metadata_str}\\n\\n{content}', metadata_template='{key}: {value}', metadata_seperator='\\n'), Document(id_='doc_id_2', embedding=None, metadata={}, excluded_embed_metadata_keys=[], excluded_llm_metadata_keys=[], relationships={}, hash='b646fe1979b5b1992c2901ffeceb8cb8a3bd115c092e3072f8d5c4850605ad26', text='text_chunk_3', start_char_idx=None, end_char_idx=None, text_template='{metadata_str}\\n\\n{content}', metadata_template='{key}: {value}', metadata_seperator='\\n')]\n",
      "[Document(id_='doc_id_0', embedding=None, metadata={}, excluded_embed_metadata_keys=[], excluded_llm_metadata_keys=[], relationships={}, hash='ca01e438e454fa16b54e268469d7b75b30c8f2db4bd57792daa6da0ea1f8604e', text='Brand new document text', start_char_idx=None, end_char_idx=None, text_template='{metadata_str}\\n\\n{content}', metadata_template='{key}: {value}', metadata_seperator='\\n'), Document(id_='doc_id_1', embedding=None, metadata={}, excluded_embed_metadata_keys=[], excluded_llm_metadata_keys=[], relationships={}, hash='56f0533e4fa18e9e53839181e780d19ddb0c0fe89770eba433df0e7479405dd5', text='text_chunk_2', start_char_idx=None, end_char_idx=None, text_template='{metadata_str}\\n\\n{content}', metadata_template='{key}: {value}', metadata_seperator='\\n'), Document(id_='doc_id_2', embedding=None, metadata={}, excluded_embed_metadata_keys=[], excluded_llm_metadata_keys=[], relationships={}, hash='b646fe1979b5b1992c2901ffeceb8cb8a3bd115c092e3072f8d5c4850605ad26', text='text_chunk_3', start_char_idx=None, end_char_idx=None, text_template='{metadata_str}\\n\\n{content}', metadata_template='{key}: {value}', metadata_seperator='\\n')]\n",
      "[Document(id_='doc_id_0', embedding=None, metadata={}, excluded_embed_metadata_keys=[], excluded_llm_metadata_keys=[], relationships={}, hash='09a5f36da7d6cdaf64950899cd502c961bb90334483206b07db3173506d7241e', text='Super old document text', start_char_idx=None, end_char_idx=None, text_template='{metadata_str}\\n\\n{content}', metadata_template='{key}: {value}', metadata_seperator='\\n'), Document(id_='doc_id_1', embedding=None, metadata={}, excluded_embed_metadata_keys=[], excluded_llm_metadata_keys=[], relationships={}, hash='56f0533e4fa18e9e53839181e780d19ddb0c0fe89770eba433df0e7479405dd5', text='text_chunk_2', start_char_idx=None, end_char_idx=None, text_template='{metadata_str}\\n\\n{content}', metadata_template='{key}: {value}', metadata_seperator='\\n'), Document(id_='doc_id_2', embedding=None, metadata={}, excluded_embed_metadata_keys=[], excluded_llm_metadata_keys=[], relationships={}, hash='b646fe1979b5b1992c2901ffeceb8cb8a3bd115c092e3072f8d5c4850605ad26', text='text_chunk_3', start_char_idx=None, end_char_idx=None, text_template='{metadata_str}\\n\\n{content}', metadata_template='{key}: {value}', metadata_seperator='\\n'), Document(id_='doc_id_3', embedding=None, metadata={}, excluded_embed_metadata_keys=[], excluded_llm_metadata_keys=[], relationships={}, hash='bc446498f758ec7a3c8f12ae9c94d70d610b50d4ae86ddc4ab3723b34da7ee4e', text=\"This isn't in the index yet, but it will be soon!\", start_char_idx=None, end_char_idx=None, text_template='{metadata_str}\\n\\n{content}', metadata_template='{key}: {value}', metadata_seperator='\\n')]\n",
      "[True, False, False, True]\n"
     ]
    }
   ],
   "source": [
    "from llama_index import SummaryIndex, Document\n",
    "from dotenv import load_dotenv, find_dotenv\n",
    "\n",
    "load_dotenv(find_dotenv(), override=True)\n",
    "\n",
    "\n",
    "index = SummaryIndex([])\n",
    "text_chunks = ['text_chunk_1', 'text_chunk_2', 'text_chunk_3']\n",
    "\n",
    "doc_chunks = []\n",
    "for i, text in enumerate(text_chunks):\n",
    "    doc = Document(text=text, id_=f\"doc_id_{i}\")\n",
    "    doc_chunks.append(doc)\n",
    "\n",
    "print(doc_chunks)\n",
    "\n",
    "# insert\n",
    "for doc_chunk in doc_chunks:\n",
    "    index.insert(doc_chunk)\n",
    "\n",
    "\n",
    "# delete documents from index\n",
    "index.delete_ref_doc(\"doc_id_0\", delete_from_docstore=True)\n",
    "\n",
    "\n",
    "\n",
    "# update documents \n",
    "doc_chunks[0].text = \"Brand new document text\"\n",
    "index.update_ref_doc(\n",
    "    doc_chunks[0],\n",
    "    update_kwargs={\"delete_kwargs\": {'delete_from_docstore': True}}\n",
    ")\n",
    "print(doc_chunks)\n",
    "\n",
    "\n",
    "#refresh index \n",
    "# modify first document, with the same doc_id\n",
    "doc_chunks[0] = Document(text='Super old document text', id_=\"doc_id_0\")\n",
    "\n",
    "# add a new document\n",
    "doc_chunks.append(Document(text=\"This isn't in the index yet, but it will be soon!\", id_=\"doc_id_3\"))\n",
    "\n",
    "print(doc_chunks)\n",
    "\n",
    "# refresh the index\n",
    "refreshed_docs = index.refresh_ref_docs(\n",
    "    doc_chunks,\n",
    "    update_kwargs={}\n",
    ")\n",
    "\n",
    "print(refreshed_docs)\n"
   ]
  },
  {
   "cell_type": "code",
   "execution_count": null,
   "id": "219d6ed7-3023-4740-9afb-2b42045a8ab4",
   "metadata": {},
   "outputs": [],
   "source": []
  }
 ],
 "metadata": {
  "kernelspec": {
   "display_name": "Python 3 (ipykernel)",
   "language": "python",
   "name": "python3"
  },
  "language_info": {
   "codemirror_mode": {
    "name": "ipython",
    "version": 3
   },
   "file_extension": ".py",
   "mimetype": "text/x-python",
   "name": "python",
   "nbconvert_exporter": "python",
   "pygments_lexer": "ipython3",
   "version": "3.11.8"
  }
 },
 "nbformat": 4,
 "nbformat_minor": 5
}

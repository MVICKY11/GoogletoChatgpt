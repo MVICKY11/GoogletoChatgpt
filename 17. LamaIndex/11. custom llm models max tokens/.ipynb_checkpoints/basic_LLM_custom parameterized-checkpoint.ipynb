{
 "cells": [
  {
   "cell_type": "code",
   "execution_count": null,
   "id": "7653d364-274b-4a6e-b3fe-e6ec0882f0f6",
   "metadata": {},
   "outputs": [],
   "source": [
    "from llama_index import LLMPredictor, VectorStoreIndex, SimpleDirectoryReader, ServiceContext\n",
    "from langchain_openai import ChatOpenAI\n",
    "import os\n",
    "from dotenv import load_dotenv, find_dotenv\n",
    "load_dotenv(find_dotenv(), override=True)\n",
    "\n",
    "\n",
    "# define LLM\n",
    "# OpenAI, Cohere, AI21 -- max_tokens (default 256)\n",
    "llm_predictor = LLMPredictor(llm=ChatOpenAI(temperature=0, model_name=\"gpt-3.5-turbo\", max_tokens=512))\n",
    "\n",
    "\n",
    "service_context = ServiceContext.from_defaults(llm_predictor=llm_predictor)\n",
    "\n",
    "documents = SimpleDirectoryReader('input/text').load_data()\n",
    "index = VectorStoreIndex.from_documents(documents, service_context=service_context)\n",
    "\n",
    "\n",
    "query_engine = index.as_query_engine()\n",
    "response = query_engine.query(\"What did the author do growing up?\")\n",
    "print(response)"
   ]
  },
  {
   "cell_type": "code",
   "execution_count": null,
   "id": "2ddbcbb6-f60a-4f92-b6f0-d4c125d153ce",
   "metadata": {},
   "outputs": [],
   "source": []
  }
 ],
 "metadata": {
  "kernelspec": {
   "display_name": "Python 3 (ipykernel)",
   "language": "python",
   "name": "python3"
  },
  "language_info": {
   "codemirror_mode": {
    "name": "ipython",
    "version": 3
   },
   "file_extension": ".py",
   "mimetype": "text/x-python",
   "name": "python",
   "nbconvert_exporter": "python",
   "pygments_lexer": "ipython3",
   "version": "3.11.8"
  }
 },
 "nbformat": 4,
 "nbformat_minor": 5
}

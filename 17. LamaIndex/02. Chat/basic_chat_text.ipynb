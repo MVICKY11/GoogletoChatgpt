{
 "cells": [
  {
   "cell_type": "code",
   "execution_count": 12,
   "id": "d4b9e7fd-4fc1-43f1-83a9-f859c54b18af",
   "metadata": {},
   "outputs": [
    {
     "data": {
      "text/plain": [
       "True"
      ]
     },
     "execution_count": 12,
     "metadata": {},
     "output_type": "execute_result"
    }
   ],
   "source": [
    "from llama_index import VectorStoreIndex, SimpleDirectoryReader\n",
    "import os\n",
    "from dotenv import load_dotenv, find_dotenv\n",
    "load_dotenv(find_dotenv(), override=True)"
   ]
  },
  {
   "cell_type": "code",
   "execution_count": 13,
   "id": "7de3e2da-2652-4b10-ae12-58aa21efa190",
   "metadata": {},
   "outputs": [
    {
     "data": {
      "text/plain": [
       "'/Users/m.alaudeen/Documents/Inceptez/Batch21/LamaIndex/.env'"
      ]
     },
     "execution_count": 13,
     "metadata": {},
     "output_type": "execute_result"
    }
   ],
   "source": [
    "find_dotenv()"
   ]
  },
  {
   "cell_type": "code",
   "execution_count": 11,
   "id": "33e882bb-529c-48e0-a994-1dffa9e861d2",
   "metadata": {},
   "outputs": [
    {
     "data": {
      "application/vnd.jupyter.widget-view+json": {
       "model_id": "3c9a5ddd63a8411bbdd629a6ba8315a2",
       "version_major": 2,
       "version_minor": 0
      },
      "text/plain": [
       "Parsing nodes:   0%|          | 0/1 [00:00<?, ?it/s]"
      ]
     },
     "metadata": {},
     "output_type": "display_data"
    },
    {
     "data": {
      "application/vnd.jupyter.widget-view+json": {
       "model_id": "0e387b7d36954596846620707f9646ea",
       "version_major": 2,
       "version_minor": 0
      },
      "text/plain": [
       "Generating embeddings:   0%|          | 0/21 [00:00<?, ?it/s]"
      ]
     },
     "metadata": {},
     "output_type": "display_data"
    },
    {
     "name": "stdout",
     "output_type": "stream",
     "text": [
      "The author worked on writing short stories and programming, particularly on an IBM 1401 using an early version of Fortran in 9th grade. Later, the author transitioned to working with microcomputers, building one from a kit and eventually getting a TRS-80 in 1980, where they started programming simple games and a word processor.\n"
     ]
    }
   ],
   "source": [
    "\n",
    "documents = SimpleDirectoryReader('data').load_data()\n",
    "index = VectorStoreIndex.from_documents(documents,show_progress = True)\n",
    "\n",
    "query_engine = index.as_query_engine()\n",
    "response = query_engine.query(\"What did author do growing up?\")\n",
    "print(response)\n"
   ]
  },
  {
   "cell_type": "code",
   "execution_count": 10,
   "id": "fca312d3-5c4a-43dd-9216-242be17c7fc8",
   "metadata": {},
   "outputs": [
    {
     "data": {
      "text/plain": [
       "\u001b[0;31mInit signature:\u001b[0m\n",
       "\u001b[0mVectorStoreIndex\u001b[0m\u001b[0;34m(\u001b[0m\u001b[0;34m\u001b[0m\n",
       "\u001b[0;34m\u001b[0m    \u001b[0mnodes\u001b[0m\u001b[0;34m:\u001b[0m \u001b[0mOptional\u001b[0m\u001b[0;34m[\u001b[0m\u001b[0mSequence\u001b[0m\u001b[0;34m[\u001b[0m\u001b[0mllama_index\u001b[0m\u001b[0;34m.\u001b[0m\u001b[0mschema\u001b[0m\u001b[0;34m.\u001b[0m\u001b[0mBaseNode\u001b[0m\u001b[0;34m]\u001b[0m\u001b[0;34m]\u001b[0m \u001b[0;34m=\u001b[0m \u001b[0;32mNone\u001b[0m\u001b[0;34m,\u001b[0m\u001b[0;34m\u001b[0m\n",
       "\u001b[0;34m\u001b[0m    \u001b[0mindex_struct\u001b[0m\u001b[0;34m:\u001b[0m \u001b[0mOptional\u001b[0m\u001b[0;34m[\u001b[0m\u001b[0mllama_index\u001b[0m\u001b[0;34m.\u001b[0m\u001b[0mdata_structs\u001b[0m\u001b[0;34m.\u001b[0m\u001b[0mdata_structs\u001b[0m\u001b[0;34m.\u001b[0m\u001b[0mIndexDict\u001b[0m\u001b[0;34m]\u001b[0m \u001b[0;34m=\u001b[0m \u001b[0;32mNone\u001b[0m\u001b[0;34m,\u001b[0m\u001b[0;34m\u001b[0m\n",
       "\u001b[0;34m\u001b[0m    \u001b[0mservice_context\u001b[0m\u001b[0;34m:\u001b[0m \u001b[0mOptional\u001b[0m\u001b[0;34m[\u001b[0m\u001b[0mllama_index\u001b[0m\u001b[0;34m.\u001b[0m\u001b[0mservice_context\u001b[0m\u001b[0;34m.\u001b[0m\u001b[0mServiceContext\u001b[0m\u001b[0;34m]\u001b[0m \u001b[0;34m=\u001b[0m \u001b[0;32mNone\u001b[0m\u001b[0;34m,\u001b[0m\u001b[0;34m\u001b[0m\n",
       "\u001b[0;34m\u001b[0m    \u001b[0mstorage_context\u001b[0m\u001b[0;34m:\u001b[0m \u001b[0mOptional\u001b[0m\u001b[0;34m[\u001b[0m\u001b[0mllama_index\u001b[0m\u001b[0;34m.\u001b[0m\u001b[0mstorage\u001b[0m\u001b[0;34m.\u001b[0m\u001b[0mstorage_context\u001b[0m\u001b[0;34m.\u001b[0m\u001b[0mStorageContext\u001b[0m\u001b[0;34m]\u001b[0m \u001b[0;34m=\u001b[0m \u001b[0;32mNone\u001b[0m\u001b[0;34m,\u001b[0m\u001b[0;34m\u001b[0m\n",
       "\u001b[0;34m\u001b[0m    \u001b[0muse_async\u001b[0m\u001b[0;34m:\u001b[0m \u001b[0mbool\u001b[0m \u001b[0;34m=\u001b[0m \u001b[0;32mFalse\u001b[0m\u001b[0;34m,\u001b[0m\u001b[0;34m\u001b[0m\n",
       "\u001b[0;34m\u001b[0m    \u001b[0mstore_nodes_override\u001b[0m\u001b[0;34m:\u001b[0m \u001b[0mbool\u001b[0m \u001b[0;34m=\u001b[0m \u001b[0;32mFalse\u001b[0m\u001b[0;34m,\u001b[0m\u001b[0;34m\u001b[0m\n",
       "\u001b[0;34m\u001b[0m    \u001b[0minsert_batch_size\u001b[0m\u001b[0;34m:\u001b[0m \u001b[0mint\u001b[0m \u001b[0;34m=\u001b[0m \u001b[0;36m2048\u001b[0m\u001b[0;34m,\u001b[0m\u001b[0;34m\u001b[0m\n",
       "\u001b[0;34m\u001b[0m    \u001b[0mshow_progress\u001b[0m\u001b[0;34m:\u001b[0m \u001b[0mbool\u001b[0m \u001b[0;34m=\u001b[0m \u001b[0;32mFalse\u001b[0m\u001b[0;34m,\u001b[0m\u001b[0;34m\u001b[0m\n",
       "\u001b[0;34m\u001b[0m    \u001b[0;34m**\u001b[0m\u001b[0mkwargs\u001b[0m\u001b[0;34m:\u001b[0m \u001b[0mAny\u001b[0m\u001b[0;34m,\u001b[0m\u001b[0;34m\u001b[0m\n",
       "\u001b[0;34m\u001b[0m\u001b[0;34m)\u001b[0m \u001b[0;34m->\u001b[0m \u001b[0;32mNone\u001b[0m\u001b[0;34m\u001b[0m\u001b[0;34m\u001b[0m\u001b[0m\n",
       "\u001b[0;31mDocstring:\u001b[0m     \n",
       "Vector Store Index.\n",
       "\n",
       "Args:\n",
       "    use_async (bool): Whether to use asynchronous calls. Defaults to False.\n",
       "    show_progress (bool): Whether to show tqdm progress bars. Defaults to False.\n",
       "    store_nodes_override (bool): set to True to always store Node objects in index\n",
       "        store and document store even if vector store keeps text. Defaults to False\n",
       "\u001b[0;31mInit docstring:\u001b[0m Initialize params.\n",
       "\u001b[0;31mFile:\u001b[0m           /opt/homebrew/lib/python3.11/site-packages/llama_index/indices/vector_store/base.py\n",
       "\u001b[0;31mType:\u001b[0m           ABCMeta\n",
       "\u001b[0;31mSubclasses:\u001b[0m     MultiModalVectorStoreIndex"
      ]
     },
     "metadata": {},
     "output_type": "display_data"
    }
   ],
   "source": [
    "VectorStoreIndex?"
   ]
  },
  {
   "cell_type": "code",
   "execution_count": 55,
   "id": "40349fd1-47d5-487a-8c5e-a6207ed162c2",
   "metadata": {},
   "outputs": [],
   "source": [
    "documents = SimpleDirectoryReader('data').load_data()\n"
   ]
  },
  {
   "cell_type": "code",
   "execution_count": 56,
   "id": "19f86e01-026a-4d3f-b6e3-c867300deaa8",
   "metadata": {
    "scrolled": true
   },
   "outputs": [
    {
     "data": {
      "text/plain": [
       "2"
      ]
     },
     "execution_count": 56,
     "metadata": {},
     "output_type": "execute_result"
    }
   ],
   "source": [
    "len(documents)"
   ]
  },
  {
   "cell_type": "code",
   "execution_count": 57,
   "id": "c38147d3-a448-4f61-a6d4-18df9f87afcb",
   "metadata": {},
   "outputs": [
    {
     "data": {
      "text/plain": [
       "'23baa108-9dff-4f5e-86e7-3e5851652824'"
      ]
     },
     "execution_count": 57,
     "metadata": {},
     "output_type": "execute_result"
    }
   ],
   "source": [
    "documents[0].id_"
   ]
  },
  {
   "cell_type": "code",
   "execution_count": 58,
   "id": "0d2f51a9-863a-425b-a102-5eb555e2bdb8",
   "metadata": {},
   "outputs": [
    {
     "data": {
      "text/plain": [
       "'33bc9831-b141-42fc-b5da-abf4c8d3b7bb'"
      ]
     },
     "execution_count": 58,
     "metadata": {},
     "output_type": "execute_result"
    }
   ],
   "source": [
    "documents[1].id_"
   ]
  },
  {
   "cell_type": "code",
   "execution_count": 59,
   "id": "b48d9060-c229-40f1-92c5-03ae0479145f",
   "metadata": {},
   "outputs": [
    {
     "data": {
      "application/vnd.jupyter.widget-view+json": {
       "model_id": "dffd232396d049b5a8afc27f1b52747a",
       "version_major": 2,
       "version_minor": 0
      },
      "text/plain": [
       "Parsing nodes:   0%|          | 0/2 [00:00<?, ?it/s]"
      ]
     },
     "metadata": {},
     "output_type": "display_data"
    },
    {
     "data": {
      "application/vnd.jupyter.widget-view+json": {
       "model_id": "0a4771a737014dda8fc0935e5d5739a3",
       "version_major": 2,
       "version_minor": 0
      },
      "text/plain": [
       "Generating embeddings:   0%|          | 0/25 [00:00<?, ?it/s]"
      ]
     },
     "metadata": {},
     "output_type": "display_data"
    }
   ],
   "source": [
    " index = VectorStoreIndex.from_documents(documents,show_progress = True)"
   ]
  },
  {
   "cell_type": "code",
   "execution_count": 60,
   "id": "abe95a89-2ec5-4ec5-af42-d3c33a359098",
   "metadata": {},
   "outputs": [
    {
     "data": {
      "text/plain": [
       "{'23baa108-9dff-4f5e-86e7-3e5851652824': RefDocInfo(node_ids=['b10ed91e-1b3c-4e50-ad0c-d3136bb40528', '5cb7b334-8c87-4967-a229-6d9fb389f572', '668bf5cb-40e3-443c-bddb-4b0a1a38cd89', '75fb905a-dc88-4d04-bb70-b56abe316525'], metadata={'file_path': 'data/billgates.txt', 'file_name': 'billgates.txt', 'file_type': 'text/plain', 'file_size': 14650, 'creation_date': '2024-07-07', 'last_modified_date': '2024-07-07', 'last_accessed_date': '2024-07-07'}),\n",
       " '33bc9831-b141-42fc-b5da-abf4c8d3b7bb': RefDocInfo(node_ids=['3874268f-98cb-4294-94d8-57293bffba95', '4caaa5c6-ea7c-42b9-9219-336a08854f89', '58276773-93e0-44d9-a8fd-51342007098e', 'ae0994cd-9e66-48c3-a977-18abe25d714c', 'd1d3c9b2-70e7-4d8c-aebe-36c24f3e030c', '8cb6803d-86e9-4ebe-afd4-05834a944b51', '5acdb1b7-4de7-4a09-947c-8ca34e7aa1d2', 'f6b4827e-bdb3-4a37-9cb1-241eed7f9db3', '96dc267c-bf47-4d76-ac06-3865fdefd8eb', 'fb28e2b8-7763-4e5f-af52-bf59f740b247', 'b74651ce-3bea-4b9e-89b6-f3ed2cb79541', '56e73e5d-21de-45f9-9470-b159d40543ec', '0f61983e-e56c-48ca-966c-a9c70a98e5a4', '771e461e-8d8e-4526-98f6-f109234509e3', '2fafb60c-17be-4e78-9230-0839c3599909', '72facc9e-57aa-4d58-a748-7a20a22d2695', 'cc7ab4c0-d690-481f-b3ca-72719971821b', '59a80354-a96d-4561-a811-797a1205bd9b', 'd7e6bfa7-85c6-42f5-bee7-f4fcdb6df160', 'f5e6919f-74a7-4b3e-973b-33b373cc37f4', 'e94a6a9c-83ad-4b1f-bd83-4e08001a1615'], metadata={'file_path': 'data/sample.txt', 'file_name': 'sample.txt', 'file_type': 'text/plain', 'file_size': 75178, 'creation_date': '2024-07-07', 'last_modified_date': '2023-05-13', 'last_accessed_date': '2024-07-07'})}"
      ]
     },
     "execution_count": 60,
     "metadata": {},
     "output_type": "execute_result"
    }
   ],
   "source": [
    "index.ref_doc_info"
   ]
  },
  {
   "cell_type": "code",
   "execution_count": 61,
   "id": "90bdd4f9-232f-46e4-8a9c-d75d4f19c29e",
   "metadata": {},
   "outputs": [
    {
     "data": {
      "text/plain": [
       "4"
      ]
     },
     "execution_count": 61,
     "metadata": {},
     "output_type": "execute_result"
    }
   ],
   "source": [
    "len(index.ref_doc_info[documents[0].id_].node_ids)"
   ]
  },
  {
   "cell_type": "code",
   "execution_count": 63,
   "id": "37e4b91a-5089-41eb-830b-3b6ef8e31568",
   "metadata": {},
   "outputs": [
    {
     "data": {
      "text/plain": [
       "21"
      ]
     },
     "execution_count": 63,
     "metadata": {},
     "output_type": "execute_result"
    }
   ],
   "source": [
    "len(index.ref_doc_info[documents[1].id_].node_ids)"
   ]
  },
  {
   "cell_type": "code",
   "execution_count": 69,
   "id": "69dad94c-cf93-45e0-bc82-8d698882cb8b",
   "metadata": {},
   "outputs": [],
   "source": [
    "engine = index.as_query_engine()"
   ]
  },
  {
   "cell_type": "code",
   "execution_count": 81,
   "id": "5c509938-f554-4b26-997c-be8af2c3fc5b",
   "metadata": {},
   "outputs": [],
   "source": [
    "response = engine.query(\"What all the information about computers and investors?\")"
   ]
  },
  {
   "cell_type": "code",
   "execution_count": 82,
   "id": "486e984a-8c23-4fe4-a09d-d3b8b1546d63",
   "metadata": {},
   "outputs": [
    {
     "data": {
      "text/plain": [
       "'The text discusses the early experiences of Bill Gates with computers, including his work on traffic counters and the development of software like Altair BASIC. It also delves into the story of how Y Combinator was founded, detailing the involvement of individuals like Jessica Livingston and the approach they took towards angel investing and supporting startup founders.'"
      ]
     },
     "execution_count": 82,
     "metadata": {},
     "output_type": "execute_result"
    }
   ],
   "source": [
    "response.response"
   ]
  },
  {
   "cell_type": "code",
   "execution_count": 86,
   "id": "b0eb03c9-d89a-4611-b989-56a76a62ece2",
   "metadata": {},
   "outputs": [
    {
     "data": {
      "text/plain": [
       "'And I bought another building in Cambridge, a former candy factory (and later, twas said, porn studio), to use as an office.\\n\\nOne night in October 2003 there was a big party at my house. It was a clever idea of my friend Maria Daniels, who was one of the thursday diners. Three separate hosts would all invite their friends to one party. So for every guest, two thirds of the other guests would be people they didn\\'t know but would probably like. One of the guests was someone I didn\\'t know but would turn out to like a lot: a woman called Jessica Livingston. A couple days later I asked her out.\\n\\nJessica was in charge of marketing at a Boston investment bank. This bank thought it understood startups, but over the next year, as she met friends of mine from the startup world, she was surprised how different reality was. And how colorful their stories were. So she decided to compile a book of interviews with startup founders.\\n\\nWhen the bank had financial problems and she had to fire half her staff, she started looking for a new job. In early 2005 she interviewed for a marketing job at a Boston VC firm. It took them weeks to make up their minds, and during this time I started telling her about all the things that needed to be fixed about venture capital. They should make a larger number of smaller investments instead of a handful of giant ones, they should be funding younger, more technical founders instead of MBAs, they should let the founders remain as CEO, and so on.\\n\\nOne of my tricks for writing essays had always been to give talks. The prospect of having to stand up in front of a group of people and tell them something that won\\'t waste their time is a great spur to the imagination. When the Harvard Computer Society, the undergrad computer club, asked me to give a talk, I decided I would tell them how to start a startup. Maybe they\\'d be able to avoid the worst of the mistakes we\\'d made.\\n\\nSo I gave this talk, in the course of which I told them that the best sources of seed funding were successful startup founders, because then they\\'d be sources of advice too. Whereupon it seemed they were all looking expectantly at me. Horrified at the prospect of having my inbox flooded by business plans (if I\\'d only known), I blurted out \"But not me!\" and went on with the talk. But afterward it occurred to me that I should really stop procrastinating about angel investing. I\\'d been meaning to since Yahoo bought us, and now it was 7 years later and I still hadn\\'t done one angel investment.\\n\\nMeanwhile I had been scheming with Robert and Trevor about projects we could work on together. I missed working with them, and it seemed like there had to be something we could collaborate on.\\n\\nAs Jessica and I were walking home from dinner on March 11, at the corner of Garden and Walker streets, these three threads converged. Screw the VCs who were taking so long to make up their minds. We\\'d start our own investment firm and actually implement the ideas we\\'d been talking about. I\\'d fund it, and Jessica could quit her job and work for it, and we\\'d get Robert and Trevor as partners too. [13]\\n\\nOnce again, ignorance worked in our favor. We had no idea how to be angel investors, and in Boston in 2005 there were no Ron Conways to learn from. So we just made what seemed like the obvious choices, and some of the things we did turned out to be novel.\\n\\nThere are multiple components to Y Combinator, and we didn\\'t figure them all out at once. The part we got first was to be an angel firm. In those days, those two words didn\\'t go together. There were VC firms, which were organized companies with people whose job it was to make investments, but they only did big, million dollar investments. And there were angels, who did smaller investments, but these were individuals who were usually focused on other things and made investments on the side. And neither of them helped founders enough in the beginning. We knew how helpless founders were in some respects, because we remembered how helpless we\\'d been. For example, one thing Julian had done for us that seemed to us like magic was to get us set up as a company. We were fine writing fairly difficult software, but actually getting incorporated, with bylaws and stock and all that stuff, how on earth did you do that? Our plan was not only to make seed investments, but to do for startups everything Julian had done for us.\\n\\nYC was not organized as a fund. It was cheap enough to run that we funded it with our own money.'"
      ]
     },
     "execution_count": 86,
     "metadata": {},
     "output_type": "execute_result"
    }
   ],
   "source": [
    "response.source_nodes[0].text"
   ]
  },
  {
   "cell_type": "code",
   "execution_count": 83,
   "id": "50539537-46b0-4d9a-9116-37663ab7a60e",
   "metadata": {
    "scrolled": true
   },
   "outputs": [
    {
     "data": {
      "text/plain": [
       "{'file_path': 'data/sample.txt',\n",
       " 'file_name': 'sample.txt',\n",
       " 'file_type': 'text/plain',\n",
       " 'file_size': 75178,\n",
       " 'creation_date': '2024-07-07',\n",
       " 'last_modified_date': '2023-05-13',\n",
       " 'last_accessed_date': '2024-07-07'}"
      ]
     },
     "execution_count": 83,
     "metadata": {},
     "output_type": "execute_result"
    }
   ],
   "source": [
    "response.source_nodes[0].metadata\n"
   ]
  },
  {
   "cell_type": "code",
   "execution_count": 84,
   "id": "56f91951-5e55-4633-a802-a3eb72c5492c",
   "metadata": {},
   "outputs": [
    {
     "data": {
      "text/plain": [
       "{'file_path': 'data/billgates.txt',\n",
       " 'file_name': 'billgates.txt',\n",
       " 'file_type': 'text/plain',\n",
       " 'file_size': 14650,\n",
       " 'creation_date': '2024-07-07',\n",
       " 'last_modified_date': '2024-07-07',\n",
       " 'last_accessed_date': '2024-07-07'}"
      ]
     },
     "execution_count": 84,
     "metadata": {},
     "output_type": "execute_result"
    }
   ],
   "source": [
    "response.source_nodes[1].metadata"
   ]
  },
  {
   "cell_type": "code",
   "execution_count": 87,
   "id": "a212f9a1-1ee9-4cc9-bf59-559101f8964a",
   "metadata": {},
   "outputs": [
    {
     "data": {
      "text/plain": [
       "'[7] At the end of the ban, they offered to find bugs in CCC\\'s software in exchange for extra computer time. Rather than using the system remotely via Teletype, Gates went to CCC\\'s offices and studied source code for various programs that ran on the system, including Fortran, Lisp, and machine language. The arrangement with CCC continued until 1970 when the company went out of business. The following year, a Lakeside teacher enlisted Gates and Evans to automate the school\\'s class-scheduling system, providing them computer time and royalties in return. The duo worked diligently in order to have the program ready for their senior year. Towards the end of their junior year, Evans was killed in a mountain climbing accident, which Gates described as one of the saddest days of his life. He then turned to Allen who helped him finish the system for Lakeside.[7]\\n\\nAt 17, Gates formed a venture with Allen called Traf-O-Data to make traffic counters based on the Intel 8008 processor.[20] In 1972, he served as a congressional page in the House of Representatives.[21][22] He was a national merit scholar when he graduated from Lakeside School in 1973.[23] He scored 1590 out of 1600 on the Scholastic Aptitude Tests (SAT) and enrolled at Harvard College in the autumn of 1973.[24][25] He did not stay at Harvard long enough to choose a concentration, but took mathematics (including Math 55) and graduate level computer science courses.[26] While at Harvard, he met fellow student and future Microsoft CEO Steve Ballmer. Gates left Harvard after two years while Ballmer stayed and graduated magna cum laude. Years later, Ballmer succeeded Gates as Microsoft\\'s CEO and maintained that position from 2000 until his resignation in 2014.[27][28]\\n\\nGates devised an algorithm for pancake sorting as a solution to one of a series of unsolved problems[29] presented in a combinatorics class by professor Harry Lewis. His solution held the record as the fastest version for over 30 years, and its successor is faster by only 2%.[29][30] His solution was formalized and published in collaboration with Harvard computer scientist Christos Papadimitriou.[31]\\n\\nGates remained in contact with Paul Allen and joined him at Honeywell during the summer of 1974.[32] In 1975, the MITS Altair 8800 was released based on the Intel 8080 CPU, and Gates and Allen saw the opportunity to start their own computer software company.[33] Gates dropped out of Harvard that same year. His parents were supportive of him after seeing how much he wanted to start his own company.[34] He explained his decision to leave Harvard: \"if things hadn\\'t worked out, I could always go back to school. I was officially on leave.\"[35]\\n\\nMicrosoft\\nFurther information: History of Microsoft and Microsoft § History\\nBASIC\\n\\nMITS Altair 8800 Computer with 8-inch (200 mm) floppy disk system whose first programming language was Microsoft\\'s founding product, Altair BASIC\\nGates read the January 1975 issue of Popular Electronics which demonstrated the Altair 8800, and contacted Micro Instrumentation and Telemetry Systems (MITS) to inform them that he and others were working on a BASIC interpreter for the platform.[36] In reality, Gates and Allen did not have an Altair and had not written code for it; they merely wanted to gauge MITS\\'s interest. MITS president Ed Roberts agreed to meet them for a demonstration, and over the course of a few weeks they developed an Altair emulator that ran on a minicomputer, and then the BASIC interpreter. The demonstration was held at MITS\\'s offices in Albuquerque, New Mexico; it was a success and resulted in a deal with MITS to distribute the interpreter as Altair BASIC. MITS hired Allen,[37] and Gates took a leave of absence from Harvard to work with him at MITS in November 1975. Allen named their partnership \"Micro-Soft\", a combination of \"microcomputer\" and \"software\", and their first office was in Albuquerque. The first employee Gates and Allen hired was their high school collaborator Ric Weiland.[37] They dropped the hyphen within a year and officially registered the trade name \"Microsoft\" with the Secretary of the State of New Mexico on November 26, 1976.[37] Gates never returned to Harvard to complete his studies.\\n\\nMicrosoft\\'s Altair BASIC was popular with computer hobbyists, but Gates discovered that a pre-market copy had leaked out and was being widely copied and distributed.'"
      ]
     },
     "execution_count": 87,
     "metadata": {},
     "output_type": "execute_result"
    }
   ],
   "source": [
    "response.source_nodes[1].text"
   ]
  },
  {
   "cell_type": "code",
   "execution_count": 45,
   "id": "009482ea-257c-4ef1-a5b6-4e74ab8253bf",
   "metadata": {},
   "outputs": [],
   "source": [
    "response = engine.query(\"who is Robert Morris?\")"
   ]
  },
  {
   "cell_type": "code",
   "execution_count": 46,
   "id": "98b888e0-c7d9-47ef-b1ec-3f62c01df30d",
   "metadata": {},
   "outputs": [
    {
     "data": {
      "text/plain": [
       "'A friend of the speaker who got kicked out of Cornell for writing the internet worm of 1988.'"
      ]
     },
     "execution_count": 46,
     "metadata": {},
     "output_type": "execute_result"
    }
   ],
   "source": [
    "response.response"
   ]
  },
  {
   "cell_type": "code",
   "execution_count": null,
   "id": "2d5796d4-9672-4188-ab47-30e6acf5a6de",
   "metadata": {},
   "outputs": [],
   "source": []
  },
  {
   "cell_type": "code",
   "execution_count": 88,
   "id": "f567c197-9c5b-4e27-8e46-6f7d6086e807",
   "metadata": {},
   "outputs": [
    {
     "data": {
      "text/plain": [
       "\"I'm sorry, but based on the provided context information, there is no mention of a Hollywood actor named Arnold.\""
      ]
     },
     "execution_count": 88,
     "metadata": {},
     "output_type": "execute_result"
    }
   ],
   "source": [
    "response = engine.query(\"based on the documnet tell me some information on hollywood actor Arnold?\")\n",
    "response.response"
   ]
  },
  {
   "cell_type": "code",
   "execution_count": 89,
   "id": "c92ca190-a0ed-4272-9c7f-e997968cff5d",
   "metadata": {},
   "outputs": [
    {
     "data": {
      "text/plain": [
       "'Arnold was a student who had a diverse background in writing, programming, and art. He applied to art schools in the US and Italy, ultimately attending RISD. Arnold also had experience with computers, starting with early programming on an IBM 1401 in 9th grade and later getting a TRS-80 to write programs. Despite initially planning to study philosophy in college, Arnold found it unfulfilling and switched to AI due to his interest sparked by a novel and a documentary featuring intelligent computers.'"
      ]
     },
     "execution_count": 89,
     "metadata": {},
     "output_type": "execute_result"
    }
   ],
   "source": [
    "response = engine.query(\"tell me about arnold? \")\n",
    "response.response"
   ]
  },
  {
   "cell_type": "code",
   "execution_count": 90,
   "id": "f57da6df-1590-4047-8e06-d0033004ecb3",
   "metadata": {
    "scrolled": true
   },
   "outputs": [
    {
     "data": {
      "text/plain": [
       "[NodeWithScore(node=TextNode(id_='ae0994cd-9e66-48c3-a977-18abe25d714c', embedding=None, metadata={'file_path': 'data/sample.txt', 'file_name': 'sample.txt', 'file_type': 'text/plain', 'file_size': 75178, 'creation_date': '2024-07-07', 'last_modified_date': '2023-05-13', 'last_accessed_date': '2024-07-07'}, excluded_embed_metadata_keys=['file_name', 'file_type', 'file_size', 'creation_date', 'last_modified_date', 'last_accessed_date'], excluded_llm_metadata_keys=['file_name', 'file_type', 'file_size', 'creation_date', 'last_modified_date', 'last_accessed_date'], relationships={<NodeRelationship.SOURCE: '1'>: RelatedNodeInfo(node_id='33bc9831-b141-42fc-b5da-abf4c8d3b7bb', node_type=<ObjectType.DOCUMENT: '4'>, metadata={'file_path': 'data/sample.txt', 'file_name': 'sample.txt', 'file_type': 'text/plain', 'file_size': 75178, 'creation_date': '2024-07-07', 'last_modified_date': '2023-05-13', 'last_accessed_date': '2024-07-07'}, hash='1c54a55e013eb04cd81feb0333e1d2e7e84c4a672cc59b5bb5dfb529603940e9'), <NodeRelationship.PREVIOUS: '2'>: RelatedNodeInfo(node_id='58276773-93e0-44d9-a8fd-51342007098e', node_type=<ObjectType.TEXT: '1'>, metadata={'file_path': 'data/sample.txt', 'file_name': 'sample.txt', 'file_type': 'text/plain', 'file_size': 75178, 'creation_date': '2024-07-07', 'last_modified_date': '2023-05-13', 'last_accessed_date': '2024-07-07'}, hash='ab8d6eca3b159e90f96d6beb9233bd5654db279f15e2d5ecafb333367c4450b8'), <NodeRelationship.NEXT: '3'>: RelatedNodeInfo(node_id='d1d3c9b2-70e7-4d8c-aebe-36c24f3e030c', node_type=<ObjectType.TEXT: '1'>, metadata={}, hash='80740b560cf1f167852baeff65023df33b3142005cbdff5b9451a24c6ce99907')}, hash='ca7ebf6ae0b07d90de6e33dcbed5c1007d6583da5e466fbb55c961c66abdb503', text='I remember when my friend Robert Morris got kicked out of Cornell for writing the internet worm of 1988, I was envious that he\\'d found such a spectacular way to get out of grad school.\\n\\nThen one day in April 1990 a crack appeared in the wall. I ran into professor Cheatham and he asked if I was far enough along to graduate that June. I didn\\'t have a word of my dissertation written, but in what must have been the quickest bit of thinking in my life, I decided to take a shot at writing one in the 5 weeks or so that remained before the deadline, reusing parts of On Lisp where I could, and I was able to respond, with no perceptible delay \"Yes, I think so. I\\'ll give you something to read in a few days.\"\\n\\nI picked applications of continuations as the topic. In retrospect I should have written about macros and embedded languages. There\\'s a whole world there that\\'s barely been explored. But all I wanted was to get out of grad school, and my rapidly written dissertation sufficed, just barely.\\n\\nMeanwhile I was applying to art schools. I applied to two: RISD in the US, and the Accademia di Belli Arti in Florence, which, because it was the oldest art school, I imagined would be good. RISD accepted me, and I never heard back from the Accademia, so off to Providence I went.\\n\\nI\\'d applied for the BFA program at RISD, which meant in effect that I had to go to college again. This was not as strange as it sounds, because I was only 25, and art schools are full of people of different ages. RISD counted me as a transfer sophomore and said I had to do the foundation that summer. The foundation means the classes that everyone has to take in fundamental subjects like drawing, color, and design.\\n\\nToward the end of the summer I got a big surprise: a letter from the Accademia, which had been delayed because they\\'d sent it to Cambridge England instead of Cambridge Massachusetts, inviting me to take the entrance exam in Florence that fall. This was now only weeks away. My nice landlady let me leave my stuff in her attic. I had some money saved from consulting work I\\'d done in grad school; there was probably enough to last a year if I lived cheaply. Now all I had to do was learn Italian.\\n\\nOnly stranieri (foreigners) had to take this entrance exam. In retrospect it may well have been a way of excluding them, because there were so many stranieri attracted by the idea of studying art in Florence that the Italian students would otherwise have been outnumbered. I was in decent shape at painting and drawing from the RISD foundation that summer, but I still don\\'t know how I managed to pass the written exam. I remember that I answered the essay question by writing about Cezanne, and that I cranked up the intellectual level as high as I could to make the most of my limited vocabulary. [2]\\n\\nI\\'m only up to age 25 and already there are such conspicuous patterns. Here I was, yet again about to attend some august institution in the hopes of learning about some prestigious subject, and yet again about to be disappointed. The students and faculty in the painting department at the Accademia were the nicest people you could imagine, but they had long since arrived at an arrangement whereby the students wouldn\\'t require the faculty to teach anything, and in return the faculty wouldn\\'t require the students to learn anything. And at the same time all involved would adhere outwardly to the conventions of a 19th century atelier. We actually had one of those little stoves, fed with kindling, that you see in 19th century studio paintings, and a nude model sitting as close to it as possible without getting burned. Except hardly anyone else painted her besides me. The rest of the students spent their time chatting or occasionally trying to imitate things they\\'d seen in American art magazines.\\n\\nOur model turned out to live just down the street from me. She made a living from a combination of modelling and making fakes for a local antique dealer. She\\'d copy an obscure old painting out of a book, and then he\\'d take the copy and maltreat it to make it look old. [3]\\n\\nWhile I was a student at the Accademia I started painting still lives in my bedroom at night. These paintings were tiny, because the room was, and because I painted them on leftover scraps of canvas, which was all I could afford at the time. Painting still lives is different from painting people, because the subject, as its name suggests, can\\'t move.', start_char_idx=10808, end_char_idx=15241, text_template='{metadata_str}\\n\\n{content}', metadata_template='{key}: {value}', metadata_seperator='\\n'), score=0.7725335319283838),\n",
       " NodeWithScore(node=TextNode(id_='3874268f-98cb-4294-94d8-57293bffba95', embedding=None, metadata={'file_path': 'data/sample.txt', 'file_name': 'sample.txt', 'file_type': 'text/plain', 'file_size': 75178, 'creation_date': '2024-07-07', 'last_modified_date': '2023-05-13', 'last_accessed_date': '2024-07-07'}, excluded_embed_metadata_keys=['file_name', 'file_type', 'file_size', 'creation_date', 'last_modified_date', 'last_accessed_date'], excluded_llm_metadata_keys=['file_name', 'file_type', 'file_size', 'creation_date', 'last_modified_date', 'last_accessed_date'], relationships={<NodeRelationship.SOURCE: '1'>: RelatedNodeInfo(node_id='33bc9831-b141-42fc-b5da-abf4c8d3b7bb', node_type=<ObjectType.DOCUMENT: '4'>, metadata={'file_path': 'data/sample.txt', 'file_name': 'sample.txt', 'file_type': 'text/plain', 'file_size': 75178, 'creation_date': '2024-07-07', 'last_modified_date': '2023-05-13', 'last_accessed_date': '2024-07-07'}, hash='1c54a55e013eb04cd81feb0333e1d2e7e84c4a672cc59b5bb5dfb529603940e9'), <NodeRelationship.PREVIOUS: '2'>: RelatedNodeInfo(node_id='75fb905a-dc88-4d04-bb70-b56abe316525', node_type=<ObjectType.TEXT: '1'>, metadata={'file_path': 'data/billgates.txt', 'file_name': 'billgates.txt', 'file_type': 'text/plain', 'file_size': 14650, 'creation_date': '2024-07-07', 'last_modified_date': '2024-07-07', 'last_accessed_date': '2024-07-07'}, hash='715607d185952a2a0a962894885816126bc8dc833aec2c578f1fab968e80525e'), <NodeRelationship.NEXT: '3'>: RelatedNodeInfo(node_id='4caaa5c6-ea7c-42b9-9219-336a08854f89', node_type=<ObjectType.TEXT: '1'>, metadata={}, hash='692d74391b6ad961556d19669374a543e4752bab10e415d8eeeda9ccf682a597')}, hash='59d7f0ad773eb901eb5d5d6143094948845e0347095650fb1c0be6396c6c1bdb', text='Before college the two main things I worked on, outside of school, were writing and programming. I didn\\'t write essays. I wrote what beginning writers were supposed to write then, and probably still are: short stories. My stories were awful. They had hardly any plot, just characters with strong feelings, which I imagined made them deep.\\n\\nThe first programs I tried writing were on the IBM 1401 that our school district used for what was then called \"data processing.\" This was in 9th grade, so I was 13 or 14. The school district\\'s 1401 happened to be in the basement of our junior high school, and my friend Rich Draves and I got permission to use it. It was like a mini Bond villain\\'s lair down there, with all these alien-looking machines — CPU, disk drives, printer, card reader — sitting up on a raised floor under bright fluorescent lights.\\n\\nThe language we used was an early version of Fortran. You had to type programs on punch cards, then stack them in the card reader and press a button to load the program into memory and run it. The result would ordinarily be to print something on the spectacularly loud printer.\\n\\nI was puzzled by the 1401. I couldn\\'t figure out what to do with it. And in retrospect there\\'s not much I could have done with it. The only form of input to programs was data stored on punched cards, and I didn\\'t have any data stored on punched cards. The only other option was to do things that didn\\'t rely on any input, like calculate approximations of pi, but I didn\\'t know enough math to do anything interesting of that type. So I\\'m not surprised I can\\'t remember any programs I wrote, because they can\\'t have done much. My clearest memory is of the moment I learned it was possible for programs not to terminate, when one of mine didn\\'t. On a machine without time-sharing, this was a social as well as a technical error, as the data center manager\\'s expression made clear.\\n\\nWith microcomputers, everything changed. Now you could have a computer sitting right in front of you, on a desk, that could respond to your keystrokes as it was running instead of just churning through a stack of punch cards and then stopping. [1]\\n\\nThe first of my friends to get a microcomputer built it himself. It was sold as a kit by Heathkit. I remember vividly how impressed and envious I felt watching him sitting in front of it, typing programs right into the computer.\\n\\nComputers were expensive in those days and it took me years of nagging before I convinced my father to buy one, a TRS-80, in about 1980. The gold standard then was the Apple II, but a TRS-80 was good enough. This was when I really started programming. I wrote simple games, a program to predict how high my model rockets would fly, and a word processor that my father used to write at least one book. There was only room in memory for about 2 pages of text, so he\\'d write 2 pages at a time and then print them out, but it was a lot better than a typewriter.\\n\\nThough I liked programming, I didn\\'t plan to study it in college. In college I was going to study philosophy, which sounded much more powerful. It seemed, to my naive high school self, to be the study of the ultimate truths, compared to which the things studied in other fields would be mere domain knowledge. What I discovered when I got to college was that the other fields took up so much of the space of ideas that there wasn\\'t much left for these supposed ultimate truths. All that seemed left for philosophy were edge cases that people in other fields felt could safely be ignored.\\n\\nI couldn\\'t have put this into words when I was 18. All I knew at the time was that I kept taking philosophy courses and they kept being boring. So I decided to switch to AI.\\n\\nAI was in the air in the mid 1980s, but there were two things especially that made me want to work on it: a novel by Heinlein called The Moon is a Harsh Mistress, which featured an intelligent computer called Mike, and a PBS documentary that showed Terry Winograd using SHRDLU. I haven\\'t tried rereading The Moon is a Harsh Mistress, so I don\\'t know how well it has aged, but when I read it I was drawn entirely into its world. It seemed only a matter of time before we\\'d have Mike, and when I saw Winograd using SHRDLU, it seemed like that time would be a few years at most. All you had to do was teach SHRDLU more words.', start_char_idx=0, end_char_idx=4332, text_template='{metadata_str}\\n\\n{content}', metadata_template='{key}: {value}', metadata_seperator='\\n'), score=0.7650962648778108)]"
      ]
     },
     "execution_count": 90,
     "metadata": {},
     "output_type": "execute_result"
    }
   ],
   "source": [
    "response.source_nodes"
   ]
  },
  {
   "cell_type": "code",
   "execution_count": null,
   "id": "de5748b4-df36-4f87-aa7e-b31a242a544b",
   "metadata": {},
   "outputs": [],
   "source": []
  }
 ],
 "metadata": {
  "kernelspec": {
   "display_name": "Python 3 (ipykernel)",
   "language": "python",
   "name": "python3"
  },
  "language_info": {
   "codemirror_mode": {
    "name": "ipython",
    "version": 3
   },
   "file_extension": ".py",
   "mimetype": "text/x-python",
   "name": "python",
   "nbconvert_exporter": "python",
   "pygments_lexer": "ipython3",
   "version": "3.11.8"
  }
 },
 "nbformat": 4,
 "nbformat_minor": 5
}

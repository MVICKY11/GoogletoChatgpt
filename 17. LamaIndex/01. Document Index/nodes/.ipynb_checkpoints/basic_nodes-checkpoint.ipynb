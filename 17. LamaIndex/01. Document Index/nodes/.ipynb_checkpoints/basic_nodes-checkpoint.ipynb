{
 "cells": [
  {
   "cell_type": "code",
   "execution_count": 2,
   "id": "ee494ba5-f3f3-4336-8feb-25c5192e5d2b",
   "metadata": {},
   "outputs": [
    {
     "name": "stdout",
     "output_type": "stream",
     "text": [
      "[TextNode(id_='56d03e17-bb03-4112-8322-b1d80a6efdab', embedding=None, metadata={}, excluded_embed_metadata_keys=[], excluded_llm_metadata_keys=[], relationships={<NodeRelationship.SOURCE: '1'>: RelatedNodeInfo(node_id='47b521ce-0358-4d6e-a54c-0063f5fb17f1', node_type=<ObjectType.DOCUMENT: '4'>, metadata={}, hash='cd624bef925c57a5303745d4c726a8a7224b4a405926cbeac83ae621e12bfb22'), <NodeRelationship.NEXT: '3'>: RelatedNodeInfo(node_id='f1e26ed1-f77f-4847-891a-7666dc00c336', node_type=<ObjectType.TEXT: '1'>, metadata={}, hash='2fd69ca802512d9f4e1638ac7abbeba9a40d015864f6b1ab4679176150a91dd4')}, hash='cd624bef925c57a5303745d4c726a8a7224b4a405926cbeac83ae621e12bfb22', text='This is my first sample.', start_char_idx=0, end_char_idx=24, text_template='{metadata_str}\\n\\n{content}', metadata_template='{key}: {value}', metadata_seperator='\\n'), TextNode(id_='f1e26ed1-f77f-4847-891a-7666dc00c336', embedding=None, metadata={}, excluded_embed_metadata_keys=[], excluded_llm_metadata_keys=[], relationships={<NodeRelationship.SOURCE: '1'>: RelatedNodeInfo(node_id='9d22f289-d66d-42c5-895b-f30f3df8abf3', node_type=<ObjectType.DOCUMENT: '4'>, metadata={}, hash='2fd69ca802512d9f4e1638ac7abbeba9a40d015864f6b1ab4679176150a91dd4'), <NodeRelationship.PREVIOUS: '2'>: RelatedNodeInfo(node_id='56d03e17-bb03-4112-8322-b1d80a6efdab', node_type=<ObjectType.TEXT: '1'>, metadata={}, hash='cd624bef925c57a5303745d4c726a8a7224b4a405926cbeac83ae621e12bfb22'), <NodeRelationship.NEXT: '3'>: RelatedNodeInfo(node_id='c174499e-bba7-45fa-8448-9e3016590120', node_type=<ObjectType.TEXT: '1'>, metadata={}, hash='814d3c944f9fa1630f9338660141c10fcf38dd78967492f178ab4319fa281d81')}, hash='2fd69ca802512d9f4e1638ac7abbeba9a40d015864f6b1ab4679176150a91dd4', text='This is my second sample.', start_char_idx=0, end_char_idx=25, text_template='{metadata_str}\\n\\n{content}', metadata_template='{key}: {value}', metadata_seperator='\\n'), TextNode(id_='c174499e-bba7-45fa-8448-9e3016590120', embedding=None, metadata={}, excluded_embed_metadata_keys=[], excluded_llm_metadata_keys=[], relationships={<NodeRelationship.SOURCE: '1'>: RelatedNodeInfo(node_id='765a736b-55ad-4575-9a4e-02d73b9c0ebf', node_type=<ObjectType.DOCUMENT: '4'>, metadata={}, hash='814d3c944f9fa1630f9338660141c10fcf38dd78967492f178ab4319fa281d81'), <NodeRelationship.PREVIOUS: '2'>: RelatedNodeInfo(node_id='f1e26ed1-f77f-4847-891a-7666dc00c336', node_type=<ObjectType.TEXT: '1'>, metadata={}, hash='2fd69ca802512d9f4e1638ac7abbeba9a40d015864f6b1ab4679176150a91dd4')}, hash='814d3c944f9fa1630f9338660141c10fcf38dd78967492f178ab4319fa281d81', text='This is my third sample', start_char_idx=0, end_char_idx=23, text_template='{metadata_str}\\n\\n{content}', metadata_template='{key}: {value}', metadata_seperator='\\n')]\n"
     ]
    }
   ],
   "source": [
    "from llama_index.node_parser import SentenceSplitter\n",
    "from llama_index import Document\n",
    "\n",
    "text_list = [\"This is my first sample.\",\n",
    "             \"This is my second sample.\",\n",
    "             \"This is my third sample\"]\n",
    "\n",
    "# create document object\n",
    "documents = [Document(text=t) for t in text_list]\n",
    "\n",
    "parser = SentenceSplitter()\n",
    "\n",
    "# create nodes from document\n",
    "nodes = parser.get_nodes_from_documents(documents)\n",
    "\n",
    "print(nodes)"
   ]
  },
  {
   "cell_type": "code",
   "execution_count": 4,
   "id": "5e7ef7ae-75a3-43bc-8787-952dc723a3c6",
   "metadata": {},
   "outputs": [
    {
     "data": {
      "text/plain": [
       "3"
      ]
     },
     "execution_count": 4,
     "metadata": {},
     "output_type": "execute_result"
    }
   ],
   "source": [
    "len(nodes)"
   ]
  },
  {
   "cell_type": "code",
   "execution_count": 5,
   "id": "9b17b73a-37bf-429c-88d7-d836e633bbdb",
   "metadata": {},
   "outputs": [
    {
     "name": "stdout",
     "output_type": "stream",
     "text": [
      "Node ID: 56d03e17-bb03-4112-8322-b1d80a6efdab\n",
      "Text: This is my first sample.\n",
      "Node ID: f1e26ed1-f77f-4847-891a-7666dc00c336\n",
      "Text: This is my second sample.\n",
      "Node ID: c174499e-bba7-45fa-8448-9e3016590120\n",
      "Text: This is my third sample\n"
     ]
    }
   ],
   "source": [
    "for i in nodes:\n",
    "    print(i)"
   ]
  },
  {
   "cell_type": "code",
   "execution_count": null,
   "id": "a30a7902-f5c7-4664-a701-bd697dada2f7",
   "metadata": {},
   "outputs": [],
   "source": []
  }
 ],
 "metadata": {
  "kernelspec": {
   "display_name": "Python 3 (ipykernel)",
   "language": "python",
   "name": "python3"
  },
  "language_info": {
   "codemirror_mode": {
    "name": "ipython",
    "version": 3
   },
   "file_extension": ".py",
   "mimetype": "text/x-python",
   "name": "python",
   "nbconvert_exporter": "python",
   "pygments_lexer": "ipython3",
   "version": "3.11.8"
  }
 },
 "nbformat": 4,
 "nbformat_minor": 5
}

{
 "cells": [
  {
   "cell_type": "code",
   "execution_count": 1,
   "id": "de7f4f66-59c5-440f-a381-58b02c6bb3f0",
   "metadata": {},
   "outputs": [
    {
     "name": "stdout",
     "output_type": "stream",
     "text": [
      "The author worked on writing and programming outside of school before college.\n",
      "The author spent time working on writing, programming, and painting while growing up. They wrote short stories, experimented with programming on different computers, and later started programming extensively, including creating simple games and a word processor. Additionally, the author attended art school in Florence, where they learned painting and drawing, and worked on painting still lives in their bedroom at night due to financial constraints.\n",
      "The author worked on writing and programming outside of school before college.\n",
      "Empty Response\n"
     ]
    }
   ],
   "source": [
    "from llama_index import VectorStoreIndex, SimpleDirectoryReader\n",
    "from llama_index import ListIndex, TreeIndex, KeywordTableIndex\n",
    "import os\n",
    "from dotenv import load_dotenv, find_dotenv\n",
    "load_dotenv(find_dotenv(), override=True)\n",
    "\n",
    "\n",
    "# load data\n",
    "documents = SimpleDirectoryReader('input/text').load_data()\n",
    "\n",
    "# vector store index --> Semantic Search\n",
    "def vector_store_index():\n",
    "    index = VectorStoreIndex.from_documents(documents)\n",
    "    query_engine = index.as_query_engine()\n",
    "    response = query_engine.query(\"What did the author do growing up?\")\n",
    "    print(response)\n",
    "\n",
    "# list index --> Summarization\n",
    "def list_index():\n",
    "    index = ListIndex.from_documents(documents)\n",
    "    # query engine\n",
    "    # response_mode=\"tree_summarize\" leads to better summarization\n",
    "    query_engine = index.as_query_engine(response_mode=\"tree_summarize\")\n",
    "    response  = query_engine.query(\"What did the author do growing up?\")\n",
    "    print(response)\n",
    "\n",
    "# Tree index --> Summarizing collection of documents, helps in hierarchical summary\n",
    "def tree_index():\n",
    "    index = TreeIndex.from_documents(documents)\n",
    "    query_engine = index.as_query_engine()\n",
    "    response = query_engine.query(\"What did the author do growing up?\")\n",
    "    print(response)\n",
    "\n",
    "# Keyword index --> keyword filter\n",
    "def keyword_index():\n",
    "    index = KeywordTableIndex.from_documents(documents)\n",
    "    query_engine = index.as_query_engine()\n",
    "    response = query_engine.query(\"What did author do growing up?\")\n",
    "    print(response)\n",
    "\n",
    "# main\n",
    "if __name__ == \"__main__\":\n",
    "    vector_store_index()\n",
    "    list_index()\n",
    "    tree_index()\n",
    "    keyword_index()"
   ]
  },
  {
   "cell_type": "code",
   "execution_count": null,
   "id": "e1e0cb4a-6d22-4eca-83b8-c1211419a75e",
   "metadata": {},
   "outputs": [],
   "source": []
  }
 ],
 "metadata": {
  "kernelspec": {
   "display_name": "Python 3 (ipykernel)",
   "language": "python",
   "name": "python3"
  },
  "language_info": {
   "codemirror_mode": {
    "name": "ipython",
    "version": 3
   },
   "file_extension": ".py",
   "mimetype": "text/x-python",
   "name": "python",
   "nbconvert_exporter": "python",
   "pygments_lexer": "ipython3",
   "version": "3.11.8"
  }
 },
 "nbformat": 4,
 "nbformat_minor": 5
}

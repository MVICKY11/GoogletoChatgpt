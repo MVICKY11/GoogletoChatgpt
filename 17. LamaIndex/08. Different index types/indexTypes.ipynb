{
 "cells": [
  {
   "cell_type": "code",
   "execution_count": 3,
   "id": "de7f4f66-59c5-440f-a381-58b02c6bb3f0",
   "metadata": {},
   "outputs": [
    {
     "name": "stdout",
     "output_type": "stream",
     "text": [
      "The author worked on writing and programming outside of school before college.\n",
      "list_index\n",
      "The author spent time working on writing and programming outside of school.\n",
      "******\n",
      "tree_index\n",
      "The author worked on writing and programming outside of school before college.\n",
      "******\n",
      "keyword_index\n",
      "Empty Response\n",
      "******\n",
      "summary_index\n",
      "Repeat: The author spent time writing short stories and programming, starting with early experiences on an IBM 1401 in 9th grade using Fortran. Later, the author transitioned to microcomputers, building a Heathkit computer and eventually getting a TRS-80. This led to writing simple games, programs, and a word processor. Despite a plan to study philosophy in college, the author switched to AI due to interest sparked by a novel and a PBS documentary. This interest in AI continued through college and into graduate school, where the author eventually shifted focus to Lisp and writing a book on Lisp hacking.\n"
     ]
    }
   ],
   "source": [
    "from llama_index import VectorStoreIndex, SimpleDirectoryReader\n",
    "from llama_index import ListIndex, TreeIndex, KeywordTableIndex, SummaryIndex\n",
    "import os\n",
    "from dotenv import load_dotenv, find_dotenv\n",
    "load_dotenv(find_dotenv(), override=True)\n",
    "\n",
    "\n",
    "# load data\n",
    "documents = SimpleDirectoryReader('input/text').load_data()\n",
    "\n",
    "# vector store index --> Semantic Search\n",
    "def vector_store_index():\n",
    "    index = VectorStoreIndex.from_documents(documents)\n",
    "    query_engine = index.as_query_engine()\n",
    "    response = query_engine.query(\"What did the author do growing up?\")\n",
    "    print(response)\n",
    "\n",
    "# list index --> Summarization\n",
    "def list_index():\n",
    "    index = ListIndex.from_documents(documents)\n",
    "    # query engine\n",
    "    # response_mode=\"tree_summarize\" leads to better summarization\n",
    "    query_engine = index.as_query_engine(response_mode=\"tree_summarize\")\n",
    "    response  = query_engine.query(\"What did the author do growing up?\")\n",
    "    print(response)\n",
    "\n",
    "# Tree index --> Summarizing collection of documents, helps in hierarchical summary\n",
    "def tree_index():\n",
    "    index = TreeIndex.from_documents(documents)\n",
    "    query_engine = index.as_query_engine()\n",
    "    response = query_engine.query(\"What did the author do growing up?\")\n",
    "    print(response)\n",
    "\n",
    "# Keyword index --> keyword filter\n",
    "def keyword_index():\n",
    "    index = KeywordTableIndex.from_documents(documents)\n",
    "    query_engine = index.as_query_engine()\n",
    "    response = query_engine.query(\"What did author do growing up?\")\n",
    "    print(response)\n",
    "\n",
    "# Summary index --> keyword filter\n",
    "def summary_index():\n",
    "    index = SummaryIndex.from_documents(documents)\n",
    "    query_engine = index.as_query_engine()\n",
    "    response = query_engine.query(\"What did author do growing up?\")\n",
    "    print(response)\n",
    "\n",
    "# main\n",
    "if __name__ == \"__main__\":\n",
    "    vector_store_index()\n",
    "    print(\"list_index\")\n",
    "    list_index()\n",
    "    print(\"******\")\n",
    "    print(\"tree_index\")\n",
    "    tree_index()\n",
    "    print(\"******\")\n",
    "    print(\"keyword_index\")\n",
    "    keyword_index()\n",
    "    print(\"******\")\n",
    "    print(\"summary_index\")\n",
    "    summary_index()"
   ]
  },
  {
   "cell_type": "code",
   "execution_count": null,
   "id": "e1e0cb4a-6d22-4eca-83b8-c1211419a75e",
   "metadata": {},
   "outputs": [],
   "source": []
  }
 ],
 "metadata": {
  "kernelspec": {
   "display_name": "Python 3 (ipykernel)",
   "language": "python",
   "name": "python3"
  },
  "language_info": {
   "codemirror_mode": {
    "name": "ipython",
    "version": 3
   },
   "file_extension": ".py",
   "mimetype": "text/x-python",
   "name": "python",
   "nbconvert_exporter": "python",
   "pygments_lexer": "ipython3",
   "version": "3.11.8"
  }
 },
 "nbformat": 4,
 "nbformat_minor": 5
}

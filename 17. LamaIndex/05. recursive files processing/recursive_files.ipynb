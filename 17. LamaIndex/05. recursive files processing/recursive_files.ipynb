{
 "cells": [
  {
   "cell_type": "code",
   "execution_count": 1,
   "id": "f4192a93-ae2b-4ad1-a6e9-1ad9c02b5fcf",
   "metadata": {},
   "outputs": [
    {
     "name": "stdout",
     "output_type": "stream",
     "text": [
      "e0cb5e91-956b-4e66-bf56-06715227b46c\n",
      "701250e9-4a50-475d-8237-593a9a099bb2\n",
      "502c3542-7c62-4556-a845-e0230389a411\n",
      "input/doc/SDTerms.docx_part_0\n",
      "input/multi/file1.txt\n",
      "input/multi/file2.txt\n",
      "input/multi/file3.txt\n",
      "input/multi/file4.txt\n",
      "input/pdf/LLM.pdf_part_0\n",
      "input/pdf/LLM.pdf_part_1\n",
      "input/pdf/LLM.pdf_part_2\n",
      "input/pdf/LLM.pdf_part_3\n",
      "input/pdf/LLM.pdf_part_4\n",
      "input/pdf/LLM.pdf_part_5\n",
      "input/pdf/LLM.pdf_part_6\n",
      "input/pdf/LLM.pdf_part_7\n",
      "input/pdf/LLM.pdf_part_8\n",
      "input/pdf/LLM.pdf_part_9\n",
      "input/pdf/LLM.pdf_part_10\n",
      "input/pdf/LLM.pdf_part_11\n",
      "input/pdf/LLM.pdf_part_12\n",
      "input/pdf/LLM.pdf_part_13\n",
      "input/pdf/LLM.pdf_part_14\n",
      "input/pdf/LLM.pdf_part_15\n",
      "input/pdf/LLM.pdf_part_16\n",
      "input/pdf/LLM.pdf_part_17\n",
      "input/pdf/LLM.pdf_part_18\n",
      "input/pdf/LLM.pdf_part_19\n",
      "input/pdf/LLM.pdf_part_20\n",
      "input/pdf/LLM.pdf_part_21\n",
      "input/pdf/LLM.pdf_part_22\n",
      "input/pdf/LLM.pdf_part_23\n",
      "input/pdf/LLM.pdf_part_24\n",
      "input/pdf/LLM.pdf_part_25\n",
      "input/pdf/LLM.pdf_part_26\n",
      "input/pdf/LLM.pdf_part_27\n",
      "input/pdf/LLM.pdf_part_28\n",
      "input/pdf/LLM.pdf_part_29\n",
      "input/pdf/LLM.pdf_part_30\n",
      "input/pdf/LLM.pdf_part_31\n",
      "input/pdf/LLM.pdf_part_32\n",
      "input/pdf/LLM.pdf_part_33\n",
      "input/pdf/LLM.pdf_part_34\n",
      "input/pdf/LLM.pdf_part_35\n",
      "input/pdf/LLM.pdf_part_36\n",
      "input/pdf/LLM.pdf_part_37\n",
      "input/pdf/LLM.pdf_part_38\n",
      "input/pdf/LLM.pdf_part_39\n",
      "input/text/sample.txt\n",
      "input/text/sample2.txt\n",
      "input/text/sample3.txt\n"
     ]
    }
   ],
   "source": [
    "from llama_index import SimpleDirectoryReader\n",
    "\n",
    "def mul_file_load(input_dir):\n",
    "    # load multiple files\n",
    "    documents = SimpleDirectoryReader(input_dir).load_data()\n",
    "\n",
    "    # print document ids\n",
    "    for doc in documents:\n",
    "        print(doc.doc_id)\n",
    "\n",
    "def rec_file_load(input_dir):\n",
    "    # load files from the subfolders recursively\n",
    "    documents = SimpleDirectoryReader(input_dir = input_dir, recursive=True, filename_as_id=True).load_data()\n",
    "\n",
    "    # print document ids\n",
    "    for doc in documents:\n",
    "        print(doc.doc_id)\n",
    "\n",
    "if __name__ == '__main__':\n",
    "    mul_file_load(\"input/text\")\n",
    "    rec_file_load(\"input\")"
   ]
  },
  {
   "cell_type": "code",
   "execution_count": null,
   "id": "ffc44d8a-d89f-42d9-86de-41c023cf8aa0",
   "metadata": {},
   "outputs": [],
   "source": []
  }
 ],
 "metadata": {
  "kernelspec": {
   "display_name": "Python 3 (ipykernel)",
   "language": "python",
   "name": "python3"
  },
  "language_info": {
   "codemirror_mode": {
    "name": "ipython",
    "version": 3
   },
   "file_extension": ".py",
   "mimetype": "text/x-python",
   "name": "python",
   "nbconvert_exporter": "python",
   "pygments_lexer": "ipython3",
   "version": "3.11.8"
  }
 },
 "nbformat": 4,
 "nbformat_minor": 5
}

{
 "cells": [
  {
   "cell_type": "code",
   "execution_count": 8,
   "id": "32e8550e-b822-4f00-ae2f-f11cfc14ed2a",
   "metadata": {},
   "outputs": [],
   "source": [
    "from llama_index import VectorStoreIndex, SimpleDirectoryReader, StorageContext, load_index_from_storage\n",
    "import os\n",
    "from dotenv import load_dotenv, find_dotenv\n",
    "\n",
    "load_dotenv(find_dotenv(), override=True)\n",
    "\n",
    "def construct_index(directory_path):\n",
    "\n",
    "    documents = SimpleDirectoryReader(directory_path).load_data()\n",
    "    index = VectorStoreIndex.from_documents(documents)\n",
    "\n",
    "    # by default, data is stored in-memory. To persist to disk (under ./storage)\n",
    "    index.storage_context.persist()\n",
    "\n",
    "    return index \n",
    "\n",
    "def query_index(query):\n",
    "\n",
    "    # rebuild storage context\n",
    "    storage_context = StorageContext.from_defaults(persist_dir=\"./storage\")\n",
    "\n",
    "    # load index\n",
    "    index = load_index_from_storage(storage_context)\n",
    "\n",
    "    query_engine = index.as_query_engine()\n",
    "    response = query_engine.query(query)\n",
    "    print(response)\n",
    "\n",
    "if __name__ == \"__main__\":\n",
    "    construct_index(\"input/text\")\n"
   ]
  },
  {
   "cell_type": "code",
   "execution_count": 9,
   "id": "28cc0e4a-84b2-4bad-a772-e91d8fe9d2a3",
   "metadata": {},
   "outputs": [
    {
     "name": "stdout",
     "output_type": "stream",
     "text": [
      "The highlight of the author's career was when he started publishing essays online and realized the potential of reaching a wide audience through the web.\n"
     ]
    }
   ],
   "source": [
    "query_index(\"What was the highlight of author's career?\")"
   ]
  },
  {
   "cell_type": "code",
   "execution_count": null,
   "id": "715a8a99-0c44-4d87-9596-576701e439d0",
   "metadata": {},
   "outputs": [],
   "source": []
  }
 ],
 "metadata": {
  "kernelspec": {
   "display_name": "Python 3 (ipykernel)",
   "language": "python",
   "name": "python3"
  },
  "language_info": {
   "codemirror_mode": {
    "name": "ipython",
    "version": 3
   },
   "file_extension": ".py",
   "mimetype": "text/x-python",
   "name": "python",
   "nbconvert_exporter": "python",
   "pygments_lexer": "ipython3",
   "version": "3.11.8"
  }
 },
 "nbformat": 4,
 "nbformat_minor": 5
}

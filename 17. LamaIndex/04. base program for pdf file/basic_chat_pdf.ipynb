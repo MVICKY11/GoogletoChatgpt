{
 "cells": [
  {
   "cell_type": "code",
   "execution_count": 5,
   "id": "ecc88113-9831-4fcc-9231-df5800e2db74",
   "metadata": {},
   "outputs": [
    {
     "data": {
      "text/plain": [
       "True"
      ]
     },
     "execution_count": 5,
     "metadata": {},
     "output_type": "execute_result"
    }
   ],
   "source": [
    "from llama_index import VectorStoreIndex, SimpleDirectoryReader\n",
    "import os\n",
    "from dotenv import load_dotenv, find_dotenv\n",
    "load_dotenv(find_dotenv(), override=True)"
   ]
  },
  {
   "cell_type": "code",
   "execution_count": 6,
   "id": "e5ebf6e9-302e-49fb-acd3-92e2e6309408",
   "metadata": {},
   "outputs": [
    {
     "name": "stdout",
     "output_type": "stream",
     "text": [
      "The concept of encoders and decoders involves breaking a circuit into two separate components. The encoder is responsible for converting input data into a different format that is easier to work with, while the decoder takes this encoded data and converts it back into a format that is understandable or usable for the desired output. In the context provided, the encoder processes input data (words) and creates an encoding, which is then passed to the decoder that decodes this information to generate the desired output (selecting the next word in a sentence).\n"
     ]
    }
   ],
   "source": [
    "documents = SimpleDirectoryReader('pdf').load_data()\n",
    "index = VectorStoreIndex.from_documents(documents)\n",
    "\n",
    "query_engine = index.as_query_engine()\n",
    "response = query_engine.query(\"Explain the concept of encoders and decoders\")\n",
    "print(response)"
   ]
  },
  {
   "cell_type": "code",
   "execution_count": 8,
   "id": "8eecc678-2409-4050-a5ee-2ba757dc1f01",
   "metadata": {},
   "outputs": [
    {
     "data": {
      "text/plain": [
       "2"
      ]
     },
     "execution_count": 8,
     "metadata": {},
     "output_type": "execute_result"
    }
   ],
   "source": [
    "len(response.source_nodes)"
   ]
  },
  {
   "cell_type": "code",
   "execution_count": 9,
   "id": "44806aeb-ebc6-4cb8-ba84-324f3da6742e",
   "metadata": {},
   "outputs": [
    {
     "name": "stdout",
     "output_type": "stream",
     "text": [
      "The document provides a gentle introduction to large language models without exaggeration or excessive promotion. It discusses device-free habits to enhance productivity and happiness, offering alternatives to watching Netflix in the evening. Additionally, it touches on the topic of neural networks without using the brain metaphor, presenting a challenge faced by the author in the past.\n"
     ]
    }
   ],
   "source": [
    "response = query_engine.query(\"Can you summarize the document?\")\n",
    "print(response)"
   ]
  },
  {
   "cell_type": "code",
   "execution_count": 10,
   "id": "8c3fc2bb-f111-4420-944a-8456de9cfb50",
   "metadata": {},
   "outputs": [
    {
     "data": {
      "text/plain": [
       "2"
      ]
     },
     "execution_count": 10,
     "metadata": {},
     "output_type": "execute_result"
    }
   ],
   "source": [
    "len(response.source_nodes)"
   ]
  },
  {
   "cell_type": "code",
   "execution_count": null,
   "id": "fd3ba7f3-9eb1-4981-9b85-a913869c326b",
   "metadata": {},
   "outputs": [],
   "source": []
  }
 ],
 "metadata": {
  "kernelspec": {
   "display_name": "Python 3 (ipykernel)",
   "language": "python",
   "name": "python3"
  },
  "language_info": {
   "codemirror_mode": {
    "name": "ipython",
    "version": 3
   },
   "file_extension": ".py",
   "mimetype": "text/x-python",
   "name": "python",
   "nbconvert_exporter": "python",
   "pygments_lexer": "ipython3",
   "version": "3.11.8"
  }
 },
 "nbformat": 4,
 "nbformat_minor": 5
}

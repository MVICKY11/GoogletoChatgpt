{
 "cells": [
  {
   "cell_type": "code",
   "execution_count": 1,
   "id": "ecc88113-9831-4fcc-9231-df5800e2db74",
   "metadata": {},
   "outputs": [
    {
     "data": {
      "text/plain": [
       "True"
      ]
     },
     "execution_count": 1,
     "metadata": {},
     "output_type": "execute_result"
    }
   ],
   "source": [
    "from llama_index import VectorStoreIndex, SimpleDirectoryReader\n",
    "import os\n",
    "from dotenv import load_dotenv, find_dotenv\n",
    "load_dotenv(find_dotenv(), override=True)"
   ]
  },
  {
   "cell_type": "code",
   "execution_count": 2,
   "id": "e5ebf6e9-302e-49fb-acd3-92e2e6309408",
   "metadata": {},
   "outputs": [
    {
     "name": "stdout",
     "output_type": "stream",
     "text": [
      "The concept of encoders and decoders involves breaking a circuit into two separate components. The encoder is responsible for converting input data into a different format that is easier to work with, while the decoder takes this encoded data and converts it back into a format that is understandable or usable for the desired output. In the context provided, the encoder processes input data (words) and creates an encoding that captures the essence of the input, making it easier for the decoder to generate the desired output based on this encoded representation.\n"
     ]
    }
   ],
   "source": [
    "documents = SimpleDirectoryReader('pdf').load_data()\n",
    "index = VectorStoreIndex.from_documents(documents)\n",
    "\n",
    "query_engine = index.as_query_engine()\n",
    "response = query_engine.query(\"Explain the concept of encoders and decoders\")\n",
    "print(response)"
   ]
  },
  {
   "cell_type": "code",
   "execution_count": null,
   "id": "44806aeb-ebc6-4cb8-ba84-324f3da6742e",
   "metadata": {},
   "outputs": [],
   "source": []
  }
 ],
 "metadata": {
  "kernelspec": {
   "display_name": "Python 3 (ipykernel)",
   "language": "python",
   "name": "python3"
  },
  "language_info": {
   "codemirror_mode": {
    "name": "ipython",
    "version": 3
   },
   "file_extension": ".py",
   "mimetype": "text/x-python",
   "name": "python",
   "nbconvert_exporter": "python",
   "pygments_lexer": "ipython3",
   "version": "3.11.8"
  }
 },
 "nbformat": 4,
 "nbformat_minor": 5
}
